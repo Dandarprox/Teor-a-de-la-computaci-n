{
 "cells": [
  {
   "cell_type": "markdown",
   "metadata": {
    "deletable": true,
    "editable": true
   },
   "source": [
    "# Taller 1 - Teoría de la computación\n"
   ]
  },
  {
   "cell_type": "markdown",
   "metadata": {
    "deletable": true,
    "editable": true
   },
   "source": [
    "<h3 style=\"margin:3\"> Presentado por: Daniel Esteban Rodríguez Meza </h3>\n",
    "<h3 style=\"color: red; margin:0\"> Problema 1 </h3>"
   ]
  },
  {
   "cell_type": "markdown",
   "metadata": {
    "deletable": true,
    "editable": true
   },
   "source": [
    "Considere el problema de determinar si un código corresponde a un ISBN de 13 dígitos.\n",
    "Construya un autómata finito determinístico para identificar si un código es válido o no.\n",
    "Especifique formalmente el autómata, dibuje el diagrama y la tabla de transiciones.\n",
    "Implemente el autómata correspondiente utilizado una clase autómata. "
   ]
  },
  {
   "cell_type": "markdown",
   "metadata": {
    "collapsed": true,
    "deletable": true,
    "editable": true
   },
   "source": [
    "$$A = (\\Sigma, Q, \\delta, q_{0}, F) $$"
   ]
  },
  {
   "cell_type": "markdown",
   "metadata": {
    "deletable": true,
    "editable": true
   },
   "source": [
    "$$ Q = \\{ q_{0}, q_{1}, ... q_{18} \\} $$"
   ]
  },
  {
   "cell_type": "markdown",
   "metadata": {
    "deletable": true,
    "editable": true
   },
   "source": [
    "$$ \\Sigma = \\{ 0,...,9,- \\}$$"
   ]
  },
  {
   "cell_type": "markdown",
   "metadata": {
    "deletable": true,
    "editable": true
   },
   "source": [
    "$$ \\delta = (q_{0}, w) $$"
   ]
  },
  {
   "cell_type": "markdown",
   "metadata": {
    "deletable": true,
    "editable": true
   },
   "source": [
    "$$ q_{0} = q_{0}$$"
   ]
  },
  {
   "cell_type": "markdown",
   "metadata": {
    "deletable": true,
    "editable": true
   },
   "source": [
    "$$ F = \\{ q_{18} \\} $$"
   ]
  },
  {
   "cell_type": "markdown",
   "metadata": {
    "deletable": true,
    "editable": true
   },
   "source": [
    "<img src=\"automata_1.png\" style=\"border-width: 2px\"> "
   ]
  },
  {
   "cell_type": "markdown",
   "metadata": {
    "deletable": true,
    "editable": true
   },
   "source": [
    "<h3 align=\"center\">Tabla de transiciones</h3>\n",
    "<style type=\"text/css\">\n",
    ".tg  {border-collapse:collapse;border-spacing:0;border-color:#ccc;}\n",
    ".tg td{font-family:Arial, sans-serif;font-size:14px;padding:10px 5px;border-style:solid;border-width:1px;overflow:hidden;word-break:normal;border-color:#ccc;color:#333;background-color:#fff;}\n",
    ".tg th{font-family:Arial, sans-serif;font-size:14px;font-weight:normal;padding:10px 5px;border-style:solid;border-width:1px;overflow:hidden;word-break:normal;border-color:#ccc;color:#333;background-color:#f0f0f0;}\n",
    ".tg .tg-yw4l{vertical-align:top}\n",
    "</style>\n",
    "<table class=\"tg\" align=\"left\">\n",
    "  <tr>\n",
    "    <th class=\"tg-yw4l\"></th>\n",
    "    <th class=\"tg-yw4l\">0,...9</th>\n",
    "    <th class=\"tg-yw4l\">-</th>\n",
    "  </tr>\n",
    "  <tr>\n",
    "    <td class=\"tg-yw4l\">-&gt; q0</td>\n",
    "    <td class=\"tg-yw4l\">q1</td>\n",
    "    <td class=\"tg-yw4l\">Ø</td>\n",
    "  </tr>\n",
    "  <tr>\n",
    "    <td class=\"tg-yw4l\">q1</td>\n",
    "    <td class=\"tg-yw4l\">q2</td>\n",
    "    <td class=\"tg-yw4l\">Ø</td>\n",
    "  </tr>\n",
    "  <tr>\n",
    "    <td class=\"tg-yw4l\">q2</td>\n",
    "    <td class=\"tg-yw4l\">q3</td>\n",
    "    <td class=\"tg-yw4l\">Ø</td>\n",
    "  </tr>\n",
    "  <tr>\n",
    "    <td class=\"tg-yw4l\">q3</td>\n",
    "    <td class=\"tg-yw4l\">Ø</td>\n",
    "    <td class=\"tg-yw4l\">q4</td>\n",
    "  </tr>\n",
    "  <tr>\n",
    "    <td class=\"tg-yw4l\">q4</td>\n",
    "    <td class=\"tg-yw4l\">q5</td>\n",
    "    <td class=\"tg-yw4l\">Ø</td>\n",
    "  </tr>\n",
    "  <tr>\n",
    "    <td class=\"tg-yw4l\">q5</td>\n",
    "    <td class=\"tg-yw4l\">Ø</td>\n",
    "    <td class=\"tg-yw4l\">q6</td>\n",
    "  </tr>\n",
    "  <tr>\n",
    "    <td class=\"tg-yw4l\">q6</td>\n",
    "    <td class=\"tg-yw4l\">q7</td>\n",
    "    <td class=\"tg-yw4l\">Ø</td>\n",
    "  </tr>\n",
    "  <tr>\n",
    "    <td class=\"tg-yw4l\">q7</td>\n",
    "    <td class=\"tg-yw4l\">q8</td>\n",
    "    <td class=\"tg-yw4l\">Ø</td>\n",
    "  </tr>\n",
    "  <tr>\n",
    "    <td class=\"tg-yw4l\">q8</td>\n",
    "    <td class=\"tg-yw4l\">Ø</td>\n",
    "    <td class=\"tg-yw4l\">q9</td>\n",
    "  </tr>\n",
    "  <tr>\n",
    "    <td class=\"tg-yw4l\">q9</td>\n",
    "    <td class=\"tg-yw4l\">q10</td>\n",
    "    <td class=\"tg-yw4l\">Ø</td>\n",
    "  </tr>\n",
    "  <tr>\n",
    "    <td class=\"tg-yw4l\">q10</td>\n",
    "    <td class=\"tg-yw4l\">q11</td>\n",
    "    <td class=\"tg-yw4l\">Ø</td>\n",
    "  </tr>\n",
    "  <tr>\n",
    "    <td class=\"tg-yw4l\">q11</td>\n",
    "    <td class=\"tg-yw4l\">q12</td>\n",
    "    <td class=\"tg-yw4l\">Ø</td>\n",
    "  </tr>\n",
    "  <tr>\n",
    "    <td class=\"tg-yw4l\">q12</td>\n",
    "    <td class=\"tg-yw4l\">q13</td>\n",
    "    <td class=\"tg-yw4l\">Ø</td>\n",
    "  </tr>\n",
    "  <tr>\n",
    "    <td class=\"tg-yw4l\">q13</td>\n",
    "    <td class=\"tg-yw4l\">q14</td>\n",
    "    <td class=\"tg-yw4l\">Ø</td>\n",
    "  </tr>\n",
    "  <tr>\n",
    "    <td class=\"tg-yw4l\">q14</td>\n",
    "    <td class=\"tg-yw4l\">q15</td>\n",
    "    <td class=\"tg-yw4l\">Ø</td>\n",
    "  </tr>\n",
    "  <tr>\n",
    "    <td class=\"tg-yw4l\">q15</td>\n",
    "    <td class=\"tg-yw4l\">q16</td>\n",
    "    <td class=\"tg-yw4l\">Ø</td>\n",
    "  </tr>\n",
    "  <tr>\n",
    "    <td class=\"tg-yw4l\">q16</td>\n",
    "    <td class=\"tg-yw4l\">q16</td>\n",
    "    <td class=\"tg-yw4l\">Ø</td>\n",
    "  </tr>\n",
    "  <tr>\n",
    "    <td class=\"tg-yw4l\">q17</td>\n",
    "    <td class=\"tg-yw4l\">q18</td>\n",
    "    <td class=\"tg-yw4l\">Ø</td>\n",
    "  </tr>\n",
    "  <tr>\n",
    "    <td class=\"tg-yw4l\">*q18</td>\n",
    "    <td class=\"tg-yw4l\">q18</td>\n",
    "    <td class=\"tg-yw4l\">q18</td>\n",
    "  </tr>\n",
    "</table>"
   ]
  },
  {
   "cell_type": "code",
   "execution_count": 9,
   "metadata": {
    "collapsed": false,
    "deletable": true,
    "editable": true
   },
   "outputs": [
    {
     "name": "stdout",
     "output_type": "stream",
     "text": [
      "> The last state is: q16\n",
      "978-3-16-148410-0  is an accepted ISBN\n"
     ]
    }
   ],
   "source": [
    "class AutomataState:\n",
    "    def __init__(self, name):\n",
    "        self.name = name\n",
    "        self.accepts = []\n",
    "\n",
    "    def setStates(self, states):\n",
    "        for state in states:\n",
    "            self.accepts.append(state)\n",
    "    def setUniqueState(self, state):\n",
    "        self.accepts.append(state)\n",
    "\n",
    "digits = range(10)\n",
    "states = []\n",
    "for state in range(18):\n",
    "    states.append(AutomataState('q' + str(state)))\n",
    "\n",
    "acceptState = states[16]\n",
    "\n",
    "states[0].setUniqueState(9)\n",
    "states[1].setUniqueState(7)\n",
    "states[2].setUniqueState(8)\n",
    "\n",
    "states[3].setUniqueState('-')\n",
    "\n",
    "states[4].setStates(digits)\n",
    "\n",
    "states[5].setUniqueState('-')\n",
    "\n",
    "states[6].setStates(digits)\n",
    "states[7].setStates(digits)\n",
    "\n",
    "states[8].setUniqueState('-')\n",
    "\n",
    "states[9].setStates(digits)\n",
    "states[10].setStates(digits)\n",
    "states[11].setStates(digits)\n",
    "states[12].setStates(digits)\n",
    "states[13].setStates(digits)\n",
    "states[14].setStates(digits)\n",
    "\n",
    "states[15].setUniqueState('-')\n",
    "\n",
    "states[16].setStates(digits)\n",
    "\n",
    "states[17].setStates(digits)\n",
    "states[17].setUniqueState('-')\n",
    "\n",
    "testValue = \"978-3-16-148410-0\"\n",
    "\n",
    "posEval = 0\n",
    "lastEstate = states[0]\n",
    "\n",
    "\n",
    "for state in states:\n",
    "    #print testValue[posEval], state.accepts, state.name\n",
    "    lastEstate = state\n",
    "    if testValue[posEval] == '-':\n",
    "        if testValue[posEval] not in state.accepts:\n",
    "            break\n",
    "    else:\n",
    "        if int(testValue[posEval]) not in state.accepts:\n",
    "            break\n",
    "    posEval = posEval + 1\n",
    "    if posEval == len(testValue):\n",
    "        break\n",
    "    if state == states[17]:\n",
    "        state = states[16]\n",
    "\n",
    "print (\"> The last state is:\", lastEstate.name)\n",
    "\n",
    "if lastEstate != acceptState:\n",
    "    print (testValue, \" is not an accepted ISBN\")\n",
    "else:\n",
    "    print (testValue, \" is an accepted ISBN\")\n"
   ]
  },
  {
   "cell_type": "markdown",
   "metadata": {},
   "source": [
    "<h3 style=\"color: red\"> Problema 2 </h3>"
   ]
  },
  {
   "cell_type": "markdown",
   "metadata": {},
   "source": [
    "Construya un autómata finito determinístico sobre el alfabeto la cual acepte todas\n",
    "las cadenas que contengan NO más de dos ocurrencias consecutivas de la misma\n",
    "entrada (Por ejemplo, abba es aceptada y abbba no es aceptada). Especifique\n",
    "formalmente el autómata, dibuje el diagrama y la tabla de transiciones."
   ]
  },
  {
   "cell_type": "markdown",
   "metadata": {},
   "source": [
    "$$A = (\\Sigma, Q, \\delta, q_{0}, F) $$"
   ]
  },
  {
   "cell_type": "markdown",
   "metadata": {},
   "source": [
    "$$ Q = \\{ q_{0}, q_{1}, ... q_{6} \\} $$"
   ]
  },
  {
   "cell_type": "markdown",
   "metadata": {},
   "source": [
    "$$ \\Sigma = \\{ a, b \\}$$"
   ]
  },
  {
   "cell_type": "markdown",
   "metadata": {},
   "source": [
    "$$ \\delta = (q_{0}, w) $$"
   ]
  },
  {
   "cell_type": "markdown",
   "metadata": {},
   "source": [
    "$$ q_{0} = q_{0} $$"
   ]
  },
  {
   "cell_type": "markdown",
   "metadata": {},
   "source": [
    "$$ F = \\{ q_{1}, q_{2}, q_{3}, q_{4} \\} $$"
   ]
  },
  {
   "cell_type": "markdown",
   "metadata": {},
   "source": [
    "<img src=\"automata_2.png\" style=\"margin:0; pading:0\"> \n",
    "<hr style=\"border-color:black; margin: auto\" type=\"dotted\">"
   ]
  },
  {
   "cell_type": "markdown",
   "metadata": {},
   "source": [
    "<h3 align=\"center\">Tabla de transiciones</h3>\n",
    "<style type=\"text/css\">\n",
    ".tg  {border-collapse:collapse;border-spacing:0;border-color:#ccc;}\n",
    ".tg td{font-family:Arial, sans-serif;font-size:14px;padding:10px 5px;border-style:solid;border-width:1px;overflow:hidden;word-break:normal;border-color:#ccc;color:#333;background-color:#fff;}\n",
    ".tg th{font-family:Arial, sans-serif;font-size:14px;font-weight:normal;padding:10px 5px;border-style:solid;border-width:1px;overflow:hidden;word-break:normal;border-color:#ccc;color:#333;background-color:#f0f0f0;}\n",
    ".tg .tg-yw4l{vertical-align:top}\n",
    "</style>\n",
    "<table class=\"tg\" align=\"left\">\n",
    "  <tr>\n",
    "    <th class=\"tg-yw4l\"></th>\n",
    "    <th class=\"tg-yw4l\">a</th>\n",
    "    <th class=\"tg-yw4l\">b</th>\n",
    "  </tr>\n",
    "  <tr>\n",
    "    <td class=\"tg-yw4l\">-&gt; q0</td>\n",
    "    <td class=\"tg-yw4l\">q1</td>\n",
    "    <td class=\"tg-yw4l\">q3</td>\n",
    "  </tr>\n",
    "  <tr>\n",
    "    <td class=\"tg-yw4l\">*q1</td>\n",
    "    <td class=\"tg-yw4l\">q2</td>\n",
    "    <td class=\"tg-yw4l\">q3</td>\n",
    "  </tr>\n",
    "  <tr>\n",
    "    <td class=\"tg-yw4l\">*q2</td>\n",
    "    <td class=\"tg-yw4l\">q5</td>\n",
    "    <td class=\"tg-yw4l\">q3</td>\n",
    "  </tr>\n",
    "  <tr>\n",
    "    <td class=\"tg-yw4l\">*q3</td>\n",
    "    <td class=\"tg-yw4l\">q1</td>\n",
    "    <td class=\"tg-yw4l\">q4</td>\n",
    "  </tr>\n",
    "  <tr>\n",
    "    <td class=\"tg-yw4l\">*q4</td>\n",
    "    <td class=\"tg-yw4l\">q1</td>\n",
    "    <td class=\"tg-yw4l\">q6</td>\n",
    "  </tr>\n",
    "  <tr>\n",
    "    <td class=\"tg-yw4l\">q5</td>\n",
    "    <td class=\"tg-yw4l\">q5</td>\n",
    "    <td class=\"tg-yw4l\">q5</td>\n",
    "  </tr>\n",
    "  <tr>\n",
    "    <td class=\"tg-yw4l\">q6</td>\n",
    "    <td class=\"tg-yw4l\">q6</td>\n",
    "    <td class=\"tg-yw4l\">q6</td>\n",
    "  </tr>\n",
    "</table>"
   ]
  },
  {
   "cell_type": "markdown",
   "metadata": {},
   "source": [
    "<h3 style=\"color: red\"> Problema 3 </h3>"
   ]
  },
  {
   "cell_type": "markdown",
   "metadata": {},
   "source": [
    "Dado un autómata finito determinístico , construya un nuevo autómata finito\n",
    "determinístico con el mismo alfabeto de entrada y con la propiedad de que para\n",
    "todos los , u es aceptado por si y solo si NO es aceptado por."
   ]
  },
  {
   "cell_type": "markdown",
   "metadata": {},
   "source": [
    "> $M=(Q,\\Sigma,\\delta,q_0,F)$ un DFA.\n",
    "\n",
    "> $M'=(Q,\\Sigma,\\delta,q_0,F')$ \n",
    "\n",
    "> $F'=Q \\setminus F=\\{x \\in Q: x\\not\\in F\\}$.\n",
    " \n",
    "\n",
    " \n",
    " Si $u \\not\\in L(M)$ entonces $\\hat{\\delta}(q_0,u)\\not\\in F$. Luego, $\\hat{\\delta}(q_0,u)\\in Q \\setminus F=F'$ con lo cual   $u \\in L(M')$.\n",
    " \n",
    " Si $u \\in L(M)$ entonces $\\hat{\\delta}(q_0,u)\\in F$. Luego, $\\hat{\\delta}(q_0,u)\\not\\in Q \\setminus F=F'$ con lo cual   $u \\not\\in L(M')$."
   ]
  },
  {
   "cell_type": "markdown",
   "metadata": {},
   "source": [
    "<h3 style=\"color: red\"> Problema 4 </h3>"
   ]
  },
  {
   "cell_type": "markdown",
   "metadata": {},
   "source": [
    "Dados dos autómatas finitos determinísticos y con el mismo alfabeto de\n",
    "entrada, construya un tercer autómata finito determinísticos (M) con la propiedad que\n",
    "es aceptado por M si y solo si es aceptado por ambos M1 y M2"
   ]
  },
  {
   "cell_type": "markdown",
   "metadata": {},
   "source": [
    " >$M_1=(Q_1,\\Sigma,\\delta_1, q_{1_0}, F_1)$\n",
    " \n",
    " >$M_2=(Q_2,\\Sigma,\\delta_2, q_{2_0}, F_2)$\n",
    " \n",
    " > M es definido como:\n",
    " >$M=(Q_1 \\times Q_2, \\Sigma, \\delta, (q_{1_0},q_{2_0}), F_1 \\times F_2)$\n",
    " \n",
    "> $\\delta ((q_{1_i} , q_{2_j} ),a)= ({\\delta_1}(q_{1_i},a),{\\delta_2}(q_{2_j},a))$.\n",
    " "
   ]
  },
  {
   "cell_type": "markdown",
   "metadata": {},
   "source": [
    "<h3 style=\"color: red\"> Problema 5 </h3>"
   ]
  },
  {
   "cell_type": "markdown",
   "metadata": {},
   "source": [
    "Construya un autómata finito no determinístico que permita aceptar palabras sobre el\n",
    "alfabeto tal que el último símbolo aparezca al menos dos veces, pero sin la\n",
    "intervención de un símbolo superior en la mitad. Por ejemplo, 11, 2112, 123113,\n",
    "3212113, etc"
   ]
  },
  {
   "cell_type": "markdown",
   "metadata": {},
   "source": [
    "<img src=\"automata_3.png\" >"
   ]
  },
  {
   "cell_type": "markdown",
   "metadata": {},
   "source": [
    "<h3 style=\"color: red\"> Problema 6 </h3>"
   ]
  },
  {
   "cell_type": "markdown",
   "metadata": {},
   "source": [
    "Escriba un autómata que reconozca todos las cadenas sobre que representan\n",
    "números binarios que son divisibles por . Por ejemplo, 0, 101, 1010, 1111, 11001."
   ]
  },
  {
   "cell_type": "markdown",
   "metadata": {},
   "source": [
    "<img src=\"automata_div5.png\">"
   ]
  },
  {
   "cell_type": "markdown",
   "metadata": {},
   "source": [
    "<h3 style=\"color: red\"> Problema 7 </h3>"
   ]
  },
  {
   "cell_type": "markdown",
   "metadata": {},
   "source": [
    "Un sistema de transiciones es una generalización de los autómata finito no\n",
    "determinísticos con $\\epsilon$ transiciones, en la cual se admiten transiciones adicionales con\n",
    "palabras de longitud mayor o igual a 1. De una definición formal de los sistemas de\n",
    "transiciones, y pruebe que los lenguajes aceptados por un sistema de transiciones son\n",
    "aceptados por un DFA"
   ]
  },
  {
   "cell_type": "markdown",
   "metadata": {},
   "source": [
    " > Suponiendo que $ L = L(D)$ para un DFA\n",
    " Transformando D en un DFA-$\\epsilon$ añadiendo transiciones $\\delta(q, \\epsilon) = \\emptyset$ para todos los estados $q$ de $D$\n",
    " <br><br>\n",
    " Se convierten las transiciones de D para los símbolos de entrada como:\n",
    " $\\delta_{D}(q, a) = p$ en una transición de NFA al conjunto que sólo contiene $p$, es decir, $\\delta_{E}(q, a) = \\{p\\}$<br><br>\n",
    " Por lo tanto las transiciones de $E$ y $D$ son las mismas, pero $E$ establece explícitamente que no existen ninguna transición saliente de cualquier estado para $\\epsilon$<br>\n",
    " \n",
    " >>Sea $E = (Q_{E}, \\Sigma, \\delta_{E}, q_{0}, F_{E})$ un $AFN-\\epsilon$\n",
    " <br>\n",
    " $D = (Q_{D}, \\Sigma, \\delta_{D}, q_{D}, F_{D})$\n",
    " <br><br>\n",
    " Tenemos que $L(D) = L(E)$\n",
    " \n",
    " >$Base$: Si $|w| = 0$, entonces $w = ε$. Sabemos que $\\hat{\\delta}_{E}(q_{0}, \\epsilon) = CLAUSURA_{\\epsilon}(q_{0})$  Tambien sabemos que $q_{D} = CLAUSURA_{\\epsilon}(q_{0})$, porque como es como se ha definido el estado inicial de $D$. Por último, para un DFA, sabemos que $hat{\\delta}(p, \\epsilon) = p$, para cualquier estado $p$, por lo que, en particular$hat{\\delta}_{D}(q_{D}, \\epsilon) = CLAUSURA_{\\epsilon}(q_{0})$. Luego hemos demostrado que$\\hat{\\delta}_{E}(q_{0}, \\epsilon) = \\hat{\\delta}_{E}(q_{D}, \\epsilon)$.\n",
    " \n",
    "> $Inductivo$: Suponga que $w = xa$, donde $a$ es el último símbolo de $w$, y suponga que la proposición se cumple para $x$. Es decir $\\hat{\\delta}_{E}(q_{0}, x) = \\hat{\\delta}_{E}(q_{D}, x)$. Sean estos dos conjuntos de estados $\\{p_{1}, p_{2}, ... p_{k}\\}$. Aplicando la definición de $\\hat{\\delta}$ para los $AFN-\\epsilon$, calculamos $\\hat{\\delta}_{E}(q_{0}, w)$ como sigue:\n",
    "\n",
    ">> $1)$ Sea $\\{r_{1}, r_{2}, ... r_{m}\\}$ igual a $\\bigcup_{i = 1}^{k}\\delta_{E}(p_{i}, a)$ <br>\n",
    "$2)$ Luego $\\hat{\\delta}_{E}(q_{0}, w) = \\bigcup_{j = 1}^{m}CLAUSURA_{\\epsilon}(r_{j})$\n",
    "<br>\n",
    "> Si Examinamos la construccion del DFA $D$ en la construcción de subconjuntos anterior, vemos que $\\delta_{D}({p_{1}, p_{2}, ..., p_{k}, a})$m es el mismo conjunto que $\\hat{\\delta_{E}}(q_{0}, w)$. Luego hemos demostrado que $\\hat{\\delta_{E}}(q_{0}, w) = $\\hat{\\delta_{D}}(q_{D}, w)$$  y el paso de inducción queda completado."
   ]
  },
  {
   "cell_type": "markdown",
   "metadata": {},
   "source": [
    "<h3 style=\"color: red\"> Problema 8 </h3>"
   ]
  },
  {
   "cell_type": "markdown",
   "metadata": {},
   "source": [
    "Pruebe o desapruebe la siguiente afirmación: El siguiente autómata acepta el lenguaje\n",
    "$L = \\{ w| w = a^{i}b^{i} \\hspace{0.3cm} o \\hspace{0.3cm} w =  a^{i}c^{i},   i \\geqslant1, j \\geqslant1\\}$"
   ]
  },
  {
   "cell_type": "markdown",
   "metadata": {},
   "source": [
    "<img src=\"automata_ej.png\">"
   ]
  },
  {
   "cell_type": "markdown",
   "metadata": {},
   "source": [
    "> Paso Inductivo\n",
    ">> $i = 1 \\hspace{0.3cm}y\\hspace{0.3cm} j = 1$, las palabras aceptadas  serán $ \\{ab, ac \\} $\n",
    ">> $w = ab\\hspace{0.3cm} o \\hspace{0.3cm} w = ac \\hspace{0.1cm} \\in L(A), \\hat{\\delta}(w, q_{0}) \\bigcap F_{A} \\neq \\emptyset $\n",
    "<br>\n",
    "\n",
    "> Paso General\n",
    ">> Para el caso de $ a^{n + 1}b^{n + 1} $, en el caso $a^{n}b^{n}$, cuando se concatena una letra $a$ antes de la primer $b$, este paso se hace en el estado 2 que es un ciclo que permite concatener cuantas letras intermedias sea posible. Al entrar la nueva $a$ se puede continuar a aceptar $ b^{n} $ y finalmente estando en el estado 3 se puee añadir una nueva letra $b$ como caracter final y el estado final del autómata para una palabra con estas condiciones es un estado de aceptación.\n",
    "\n",
    ">>De igual forma sucede con $a^{n + 1}c^{n + 1}$\n",
    "\n",
    "> Según lo anterior se puede establecer que el autómata describe el lenguaje dado $L$.\n"
   ]
  },
  {
   "cell_type": "markdown",
   "metadata": {},
   "source": [
    "<h3 style=\"color: red\"> Problema 9 </h3>"
   ]
  },
  {
   "cell_type": "markdown",
   "metadata": {},
   "source": [
    "<ul>\n",
    "    <li>¿Cúales con las ventajas del uso de la abstracción de maquinas de estado\n",
    "frente a una implementación utlizando condicionales? </li>\n",
    "</ul>\n",
    "\n",
    "> Presentan una herramienta clara para la interpretación de  acciones de los distintos personajes, así como la consecución de acciones que presentan patrones similares y se desenvuelven con variaciones ligeras. La ventaja presentada se encuentra en la reutilización de estados que pueden ser definiciones recurrentes de una situación dada en un juego hasta que suceda una acción determinada.\n",
    "\n",
    "<ul>\n",
    "    <li>¿Cómo se utilizan los autómatas en el diseño de personajes para video\n",
    "juegos?</li>\n",
    "</ul>\n",
    "\n",
    "> Se establecen entidades del juego, que esperan a ser activadas bajo ciertos parámetros o entradas establecidas. De esta forma se genera una estructura de acciones. Todo esto establece una estrategia simplificada para la estructuración de acciones complejas que dependen de múltiples posibles entradas esperadas por el jugador.\n",
    "\n",
    "<ul>\n",
    "    <li>Seleccione su personaje de video juegos parecido, especifique formalmente su\n",
    "autómata, encuentre el lenguaje aceptado por el automata, pruebe que el\n",
    "lenguaje propuesto efectivamente es aceptado por el autómata. Seleccione un\n",
    "personaje con al menos cuatro estados y 4 acciones</li>\n",
    "</ul>\n",
    "\n",
    "$ A = (\\Sigma, \\delta, Q, q_{0}, F)$\n",
    "<br>\n",
    "$\\Sigma = \\{derecha, izquierda, arriba, B \\} $ <br>\n",
    "$Q = \\{q_{0}, Ad, Ai, S, D\\}$\n",
    "> Ad = Avanzar a la derecha<br>\n",
    "> Ai = Avanzar a la izquierda<br>\n",
    "> S = Saltar<br>\n",
    "> D = Disparar<br>\n",
    "\n",
    "$L(A) = \\{  w \\hspace{0.3cm}|\\hspace{0.3cm} w \\in \\Sigma \\}$\n",
    "\n",
    "<h4 align=\"center\"> Mario Bros.</h4>\n"
   ]
  },
  {
   "cell_type": "markdown",
   "metadata": {},
   "source": [
    "<img src=\"mario.jpg\" width=\"100px\" heigth=\"400px\"style=\"float:left\">\n",
    "<img src=\"automata_final.png\" width=\"500px\" heigth=\"650px\" style=\"float:right\">\n",
    "\n",
    "\n",
    "<div style=\"display:inline-block; font-size:12px\">\n",
    "> <i> Por cuestiones estéticas no se especifican los valores de las demás aristas del autómata, sin embargo se considera que sólo se pueden acceder a ellas mediante los símbolos válidos relacionados a su acción.</i></div>"
   ]
  },
  {
   "cell_type": "markdown",
   "metadata": {},
   "source": [
    "<h3 align=\"center\">Tabla de transiciones</h3>\n",
    "<style type=\"text/css\">\n",
    ".tg  {border-collapse:collapse;border-spacing:0;border-color:#ccc;}\n",
    ".tg td{font-family:Arial, sans-serif;font-size:14px;padding:10px 5px;border-style:solid;border-width:1px;overflow:hidden;word-break:normal;border-color:#ccc;color:#333;background-color:#fff;}\n",
    ".tg th{font-family:Arial, sans-serif;font-size:14px;font-weight:normal;padding:10px 5px;border-style:solid;border-width:1px;overflow:hidden;word-break:normal;border-color:#ccc;color:#333;background-color:#f0f0f0;}\n",
    ".tg .tg-yw4l{vertical-align:top}\n",
    "</style>\n",
    "<table class=\"tg\" align=\"left\">\n",
    "  <tr>\n",
    "    <th class=\"tg-yw4l\">Delta</th>\n",
    "    <th class=\"tg-yw4l\">derecha</th>\n",
    "    <th class=\"tg-yw4l\">izquierda</th>\n",
    "    <th class=\"tg-yw4l\">arriba</th>\n",
    "    <th class=\"tg-yw4l\">B</th>\n",
    "  </tr>\n",
    "  <tr>\n",
    "    <td class=\"tg-yw4l\">-&gt; q0</td>\n",
    "    <td class=\"tg-yw4l\">Ad</td>\n",
    "    <td class=\"tg-yw4l\">Ai</td>\n",
    "    <td class=\"tg-yw4l\">S</td>\n",
    "    <td class=\"tg-yw4l\">D</td>\n",
    "  </tr>\n",
    "  <tr>\n",
    "    <td class=\"tg-yw4l\">*Ad</td>\n",
    "    <td class=\"tg-yw4l\">Ad</td>\n",
    "    <td class=\"tg-yw4l\">Ai</td>\n",
    "    <td class=\"tg-yw4l\">S</td>\n",
    "    <td class=\"tg-yw4l\">D</td>\n",
    "  </tr>\n",
    "  <tr>\n",
    "    <td class=\"tg-yw4l\">*Ai</td>\n",
    "    <td class=\"tg-yw4l\">Ad</td>\n",
    "    <td class=\"tg-yw4l\">Ai</td>\n",
    "    <td class=\"tg-yw4l\">S</td>\n",
    "    <td class=\"tg-yw4l\">D</td>\n",
    "  </tr>\n",
    "  <tr>\n",
    "    <td class=\"tg-yw4l\">*S</td>\n",
    "    <td class=\"tg-yw4l\">Ad</td>\n",
    "    <td class=\"tg-yw4l\">Ai</td>\n",
    "    <td class=\"tg-yw4l\">S</td>\n",
    "    <td class=\"tg-yw4l\">D</td>\n",
    "  </tr>\n",
    "  <tr>\n",
    "    <td class=\"tg-yw4l\">*D</td>\n",
    "    <td class=\"tg-yw4l\">Ad</td>\n",
    "    <td class=\"tg-yw4l\">Ai</td>\n",
    "    <td class=\"tg-yw4l\">S</td>\n",
    "    <td class=\"tg-yw4l\">D</td>\n",
    "  </tr>\n",
    "</table>"
   ]
  }
 ],
 "metadata": {
  "kernelspec": {
   "display_name": "Python 3",
   "language": "python",
   "name": "python3"
  },
  "language_info": {
   "codemirror_mode": {
    "name": "ipython",
    "version": 3
   },
   "file_extension": ".py",
   "mimetype": "text/x-python",
   "name": "python",
   "nbconvert_exporter": "python",
   "pygments_lexer": "ipython3",
   "version": "3.4.2"
  }
 },
 "nbformat": 4,
 "nbformat_minor": 2
}
