{
 "cells": [
  {
   "cell_type": "markdown",
   "metadata": {
    "deletable": true,
    "editable": true
   },
   "source": [
    "# Taller 1 - Teoría de la computación\n"
   ]
  },
  {
   "cell_type": "markdown",
   "metadata": {
    "deletable": true,
    "editable": true
   },
   "source": [
    "<h3 style=\"margin:3\"> Presentado por: Daniel Esteban Rodríguez Meza </h3>\n",
    "<h3 style=\"color: red; margin:0\"> Problema 1 </h3>"
   ]
  },
  {
   "cell_type": "markdown",
   "metadata": {
    "deletable": true,
    "editable": true
   },
   "source": [
    "Considere el problema de determinar si un código corresponde a un ISBN de 13 dígitos.\n",
    "Construya un autómata finito determinístico para identificar si un código es válido o no.\n",
    "Especifique formalmente el autómata, dibuje el diagrama y la tabla de transiciones.\n",
    "Implemente el autómata correspondiente utilizado una clase autómata. "
   ]
  },
  {
   "cell_type": "markdown",
   "metadata": {
    "collapsed": true,
    "deletable": true,
    "editable": true
   },
   "source": [
    "$$A = (\\Sigma, Q, \\delta, q_{0}, F) $$"
   ]
  },
  {
   "cell_type": "markdown",
   "metadata": {
    "deletable": true,
    "editable": true
   },
   "source": [
    "$$ Q = \\{ q_{0}, q_{1}, ... q_{18} \\} $$"
   ]
  },
  {
   "cell_type": "markdown",
   "metadata": {
    "deletable": true,
    "editable": true
   },
   "source": [
    "$$ \\Sigma = \\{ 0,...,9,- \\}$$"
   ]
  },
  {
   "cell_type": "markdown",
   "metadata": {
    "deletable": true,
    "editable": true
   },
   "source": [
    "$$ \\delta = (q_{0}, w) $$"
   ]
  },
  {
   "cell_type": "markdown",
   "metadata": {
    "deletable": true,
    "editable": true
   },
   "source": [
    "$$ q_{0} = q_{0}$$"
   ]
  },
  {
   "cell_type": "markdown",
   "metadata": {
    "deletable": true,
    "editable": true
   },
   "source": [
    "$$ F = \\{ q_{18} \\} $$"
   ]
  },
  {
   "cell_type": "markdown",
   "metadata": {
    "deletable": true,
    "editable": true
   },
   "source": [
    "<img src=\"automata_1.png\" style=\"border-width: 2px\"> "
   ]
  },
  {
   "cell_type": "markdown",
   "metadata": {
    "deletable": true,
    "editable": true
   },
   "source": [
    "<h3 align=\"center\">Tabla de transiciones</h3>\n",
    "<style type=\"text/css\">\n",
    ".tg  {border-collapse:collapse;border-spacing:0;border-color:#ccc;}\n",
    ".tg td{font-family:Arial, sans-serif;font-size:14px;padding:10px 5px;border-style:solid;border-width:1px;overflow:hidden;word-break:normal;border-color:#ccc;color:#333;background-color:#fff;}\n",
    ".tg th{font-family:Arial, sans-serif;font-size:14px;font-weight:normal;padding:10px 5px;border-style:solid;border-width:1px;overflow:hidden;word-break:normal;border-color:#ccc;color:#333;background-color:#f0f0f0;}\n",
    ".tg .tg-yw4l{vertical-align:top}\n",
    "</style>\n",
    "<table class=\"tg\" align=\"left\">\n",
    "  <tr>\n",
    "    <th class=\"tg-yw4l\"></th>\n",
    "    <th class=\"tg-yw4l\">0,...9</th>\n",
    "    <th class=\"tg-yw4l\">-</th>\n",
    "  </tr>\n",
    "  <tr>\n",
    "    <td class=\"tg-yw4l\">-&gt; q0</td>\n",
    "    <td class=\"tg-yw4l\">q1</td>\n",
    "    <td class=\"tg-yw4l\">Ø</td>\n",
    "  </tr>\n",
    "  <tr>\n",
    "    <td class=\"tg-yw4l\">q1</td>\n",
    "    <td class=\"tg-yw4l\">q2</td>\n",
    "    <td class=\"tg-yw4l\">Ø</td>\n",
    "  </tr>\n",
    "  <tr>\n",
    "    <td class=\"tg-yw4l\">q2</td>\n",
    "    <td class=\"tg-yw4l\">q3</td>\n",
    "    <td class=\"tg-yw4l\">Ø</td>\n",
    "  </tr>\n",
    "  <tr>\n",
    "    <td class=\"tg-yw4l\">q3</td>\n",
    "    <td class=\"tg-yw4l\">Ø</td>\n",
    "    <td class=\"tg-yw4l\">q4</td>\n",
    "  </tr>\n",
    "  <tr>\n",
    "    <td class=\"tg-yw4l\">q4</td>\n",
    "    <td class=\"tg-yw4l\">q5</td>\n",
    "    <td class=\"tg-yw4l\">Ø</td>\n",
    "  </tr>\n",
    "  <tr>\n",
    "    <td class=\"tg-yw4l\">q5</td>\n",
    "    <td class=\"tg-yw4l\">Ø</td>\n",
    "    <td class=\"tg-yw4l\">q6</td>\n",
    "  </tr>\n",
    "  <tr>\n",
    "    <td class=\"tg-yw4l\">q6</td>\n",
    "    <td class=\"tg-yw4l\">q7</td>\n",
    "    <td class=\"tg-yw4l\">Ø</td>\n",
    "  </tr>\n",
    "  <tr>\n",
    "    <td class=\"tg-yw4l\">q7</td>\n",
    "    <td class=\"tg-yw4l\">q8</td>\n",
    "    <td class=\"tg-yw4l\">Ø</td>\n",
    "  </tr>\n",
    "  <tr>\n",
    "    <td class=\"tg-yw4l\">q8</td>\n",
    "    <td class=\"tg-yw4l\">Ø</td>\n",
    "    <td class=\"tg-yw4l\">q9</td>\n",
    "  </tr>\n",
    "  <tr>\n",
    "    <td class=\"tg-yw4l\">q9</td>\n",
    "    <td class=\"tg-yw4l\">q10</td>\n",
    "    <td class=\"tg-yw4l\">Ø</td>\n",
    "  </tr>\n",
    "  <tr>\n",
    "    <td class=\"tg-yw4l\">q10</td>\n",
    "    <td class=\"tg-yw4l\">q11</td>\n",
    "    <td class=\"tg-yw4l\">Ø</td>\n",
    "  </tr>\n",
    "  <tr>\n",
    "    <td class=\"tg-yw4l\">q11</td>\n",
    "    <td class=\"tg-yw4l\">q12</td>\n",
    "    <td class=\"tg-yw4l\">Ø</td>\n",
    "  </tr>\n",
    "  <tr>\n",
    "    <td class=\"tg-yw4l\">q12</td>\n",
    "    <td class=\"tg-yw4l\">q13</td>\n",
    "    <td class=\"tg-yw4l\">Ø</td>\n",
    "  </tr>\n",
    "  <tr>\n",
    "    <td class=\"tg-yw4l\">q13</td>\n",
    "    <td class=\"tg-yw4l\">q14</td>\n",
    "    <td class=\"tg-yw4l\">Ø</td>\n",
    "  </tr>\n",
    "  <tr>\n",
    "    <td class=\"tg-yw4l\">q14</td>\n",
    "    <td class=\"tg-yw4l\">q15</td>\n",
    "    <td class=\"tg-yw4l\">Ø</td>\n",
    "  </tr>\n",
    "  <tr>\n",
    "    <td class=\"tg-yw4l\">q15</td>\n",
    "    <td class=\"tg-yw4l\">q16</td>\n",
    "    <td class=\"tg-yw4l\">Ø</td>\n",
    "  </tr>\n",
    "  <tr>\n",
    "    <td class=\"tg-yw4l\">q16</td>\n",
    "    <td class=\"tg-yw4l\">q16</td>\n",
    "    <td class=\"tg-yw4l\">Ø</td>\n",
    "  </tr>\n",
    "  <tr>\n",
    "    <td class=\"tg-yw4l\">q17</td>\n",
    "    <td class=\"tg-yw4l\">q18</td>\n",
    "    <td class=\"tg-yw4l\">Ø</td>\n",
    "  </tr>\n",
    "  <tr>\n",
    "    <td class=\"tg-yw4l\">*q18</td>\n",
    "    <td class=\"tg-yw4l\">q18</td>\n",
    "    <td class=\"tg-yw4l\">q18</td>\n",
    "  </tr>\n",
    "</table>"
   ]
  },
  {
   "cell_type": "code",
   "execution_count": 9,
   "metadata": {
    "collapsed": false,
    "deletable": true,
    "editable": true
   },
   "outputs": [
    {
     "name": "stdout",
     "output_type": "stream",
     "text": [
      "> The last state is: q16\n",
      "978-3-16-148410-0  is an accepted ISBN\n"
     ]
    }
   ],
   "source": [
    "class AutomataState:\n",
    "    def __init__(self, name):\n",
    "        self.name = name\n",
    "        self.accepts = []\n",
    "\n",
    "    def setStates(self, states):\n",
    "        for state in states:\n",
    "            self.accepts.append(state)\n",
    "    def setUniqueState(self, state):\n",
    "        self.accepts.append(state)\n",
    "\n",
    "digits = range(10)\n",
    "states = []\n",
    "for state in range(18):\n",
    "    states.append(AutomataState('q' + str(state)))\n",
    "\n",
    "acceptState = states[16]\n",
    "\n",
    "states[0].setUniqueState(9)\n",
    "states[1].setUniqueState(7)\n",
    "states[2].setUniqueState(8)\n",
    "\n",
    "states[3].setUniqueState('-')\n",
    "\n",
    "states[4].setStates(digits)\n",
    "\n",
    "states[5].setUniqueState('-')\n",
    "\n",
    "states[6].setStates(digits)\n",
    "states[7].setStates(digits)\n",
    "\n",
    "states[8].setUniqueState('-')\n",
    "\n",
    "states[9].setStates(digits)\n",
    "states[10].setStates(digits)\n",
    "states[11].setStates(digits)\n",
    "states[12].setStates(digits)\n",
    "states[13].setStates(digits)\n",
    "states[14].setStates(digits)\n",
    "\n",
    "states[15].setUniqueState('-')\n",
    "\n",
    "states[16].setStates(digits)\n",
    "\n",
    "states[17].setStates(digits)\n",
    "states[17].setUniqueState('-')\n",
    "\n",
    "testValue = \"978-3-16-148410-0\"\n",
    "\n",
    "posEval = 0\n",
    "lastEstate = states[0]\n",
    "\n",
    "\n",
    "for state in states:\n",
    "    #print testValue[posEval], state.accepts, state.name\n",
    "    lastEstate = state\n",
    "    if testValue[posEval] == '-':\n",
    "        if testValue[posEval] not in state.accepts:\n",
    "            break\n",
    "    else:\n",
    "        if int(testValue[posEval]) not in state.accepts:\n",
    "            break\n",
    "    posEval = posEval + 1\n",
    "    if posEval == len(testValue):\n",
    "        break\n",
    "    if state == states[17]:\n",
    "        state = states[16]\n",
    "\n",
    "print (\"> The last state is:\", lastEstate.name)\n",
    "\n",
    "if lastEstate != acceptState:\n",
    "    print (testValue, \" is not an accepted ISBN\")\n",
    "else:\n",
    "    print (testValue, \" is an accepted ISBN\")\n"
   ]
  },
  {
   "cell_type": "markdown",
   "metadata": {},
   "source": [
    "<h3 style=\"color: red\"> Problema 2 </h3>"
   ]
  },
  {
   "cell_type": "markdown",
   "metadata": {},
   "source": [
    "Construya un autómata finito determinístico sobre el alfabeto la cual acepte todas\n",
    "las cadenas que contengan NO más de dos ocurrencias consecutivas de la misma\n",
    "entrada (Por ejemplo, abba es aceptada y abbba no es aceptada). Especifique\n",
    "formalmente el autómata, dibuje el diagrama y la tabla de transiciones."
   ]
  },
  {
   "cell_type": "markdown",
   "metadata": {},
   "source": [
    "$$A = (\\Sigma, Q, \\delta, q_{0}, F) $$"
   ]
  },
  {
   "cell_type": "markdown",
   "metadata": {},
   "source": [
    "$$ Q = \\{ q_{0}, q_{1}, ... q_{6} \\} $$"
   ]
  },
  {
   "cell_type": "markdown",
   "metadata": {},
   "source": [
    "$$ \\Sigma = \\{ a, b \\}$$"
   ]
  },
  {
   "cell_type": "markdown",
   "metadata": {},
   "source": [
    "$$ \\delta = (q_{0}, w) $$"
   ]
  },
  {
   "cell_type": "markdown",
   "metadata": {},
   "source": [
    "$$ q_{0} = q_{0} $$"
   ]
  },
  {
   "cell_type": "markdown",
   "metadata": {},
   "source": [
    "$$ F = \\{ q_{1}, q_{2}, q_{3}, q_{4} \\} $$"
   ]
  },
  {
   "cell_type": "markdown",
   "metadata": {},
   "source": [
    "<img src=\"automata_2.png\" style=\"margin:0; pading:0\"> "
   ]
  },
  {
   "cell_type": "markdown",
   "metadata": {},
   "source": [
    "<h3 align=\"center\">Tabla de transiciones</h3>\n",
    "<style type=\"text/css\">\n",
    ".tg  {border-collapse:collapse;border-spacing:0;border-color:#ccc;}\n",
    ".tg td{font-family:Arial, sans-serif;font-size:14px;padding:10px 5px;border-style:solid;border-width:1px;overflow:hidden;word-break:normal;border-color:#ccc;color:#333;background-color:#fff;}\n",
    ".tg th{font-family:Arial, sans-serif;font-size:14px;font-weight:normal;padding:10px 5px;border-style:solid;border-width:1px;overflow:hidden;word-break:normal;border-color:#ccc;color:#333;background-color:#f0f0f0;}\n",
    ".tg .tg-yw4l{vertical-align:top}\n",
    "</style>\n",
    "<table class=\"tg\" align=\"left\">\n",
    "  <tr>\n",
    "    <th class=\"tg-yw4l\"></th>\n",
    "    <th class=\"tg-yw4l\">a</th>\n",
    "    <th class=\"tg-yw4l\">b</th>\n",
    "  </tr>\n",
    "  <tr>\n",
    "    <td class=\"tg-yw4l\">-&gt; q0</td>\n",
    "    <td class=\"tg-yw4l\">q1</td>\n",
    "    <td class=\"tg-yw4l\">q3</td>\n",
    "  </tr>\n",
    "  <tr>\n",
    "    <td class=\"tg-yw4l\">*q1</td>\n",
    "    <td class=\"tg-yw4l\">q2</td>\n",
    "    <td class=\"tg-yw4l\">q3</td>\n",
    "  </tr>\n",
    "  <tr>\n",
    "    <td class=\"tg-yw4l\">*q2</td>\n",
    "    <td class=\"tg-yw4l\">q5</td>\n",
    "    <td class=\"tg-yw4l\">q3</td>\n",
    "  </tr>\n",
    "  <tr>\n",
    "    <td class=\"tg-yw4l\">*q3</td>\n",
    "    <td class=\"tg-yw4l\">q1</td>\n",
    "    <td class=\"tg-yw4l\">q4</td>\n",
    "  </tr>\n",
    "  <tr>\n",
    "    <td class=\"tg-yw4l\">*q4</td>\n",
    "    <td class=\"tg-yw4l\">q1</td>\n",
    "    <td class=\"tg-yw4l\">q6</td>\n",
    "  </tr>\n",
    "  <tr>\n",
    "    <td class=\"tg-yw4l\">q5</td>\n",
    "    <td class=\"tg-yw4l\">q5</td>\n",
    "    <td class=\"tg-yw4l\">q5</td>\n",
    "  </tr>\n",
    "  <tr>\n",
    "    <td class=\"tg-yw4l\">q6</td>\n",
    "    <td class=\"tg-yw4l\">q6</td>\n",
    "    <td class=\"tg-yw4l\">q6</td>\n",
    "  </tr>\n",
    "</table>"
   ]
  },
  {
   "cell_type": "markdown",
   "metadata": {},
   "source": [
    "<h3 style=\"color: red\"> Problema 3 </h3>"
   ]
  },
  {
   "cell_type": "markdown",
   "metadata": {},
   "source": [
    "Dado un autómata finito determinístico , construya un nuevo autómata finito\n",
    "determinístico con el mismo alfabeto de entrada y con la propiedad de que para\n",
    "todos los , u es aceptado por si y solo si NO es aceptado por."
   ]
  },
  {
   "cell_type": "markdown",
   "metadata": {},
   "source": [
    "> $M=(Q,\\Sigma,\\delta,q_0,F)$ un DFA.\n",
    "\n",
    "> $M'=(Q,\\Sigma,\\delta,q_0,F')$ \n",
    "\n",
    "> $F'=Q \\setminus F=\\{x \\in Q: x\\not\\in F\\}$.\n",
    " \n",
    "\n",
    " \n",
    " Si $u \\not\\in L(M)$ entonces $\\hat{\\delta}(q_0,u)\\not\\in F$. Luego, $\\hat{\\delta}(q_0,u)\\in Q \\setminus F=F'$ con lo cual   $u \\in L(M')$.\n",
    " \n",
    " Si $u \\in L(M)$ entonces $\\hat{\\delta}(q_0,u)\\in F$. Luego, $\\hat{\\delta}(q_0,u)\\not\\in Q \\setminus F=F'$ con lo cual   $u \\not\\in L(M')$."
   ]
  },
  {
   "cell_type": "markdown",
   "metadata": {},
   "source": [
    "<h3 style=\"color: red\"> Problema 5 </h3>"
   ]
  },
  {
   "cell_type": "markdown",
   "metadata": {},
   "source": [
    "Construya un autómata finito no determinístico que permita aceptar palabras sobre el\n",
    "alfabeto tal que el último símbolo aparezca al menos dos veces, pero sin la\n",
    "intervención de un símbolo superior en la mitad. Por ejemplo, 11, 2112, 123113,\n",
    "3212113, etc"
   ]
  },
  {
   "cell_type": "markdown",
   "metadata": {},
   "source": [
    "<h3 style=\"color: red\"> Problema 6 </h3>"
   ]
  },
  {
   "cell_type": "markdown",
   "metadata": {},
   "source": [
    "Escriba un autómata que reconozca todos las cadenas sobre que representan\n",
    "números binarios que son divisibles por . Por ejemplo, 0, 101, 1010, 1111, 11001."
   ]
  },
  {
   "cell_type": "markdown",
   "metadata": {},
   "source": [
    "<img src=\"automata_div5.png\">"
   ]
  }
 ],
 "metadata": {
  "kernelspec": {
   "display_name": "Python 3",
   "language": "python",
   "name": "python3"
  },
  "language_info": {
   "codemirror_mode": {
    "name": "ipython",
    "version": 3
   },
   "file_extension": ".py",
   "mimetype": "text/x-python",
   "name": "python",
   "nbconvert_exporter": "python",
   "pygments_lexer": "ipython3",
   "version": "3.4.2"
  }
 },
 "nbformat": 4,
 "nbformat_minor": 2
}
